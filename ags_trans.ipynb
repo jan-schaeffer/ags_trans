{
 "cells": [
  {
   "cell_type": "code",
   "execution_count": 1,
   "metadata": {},
   "outputs": [],
   "source": [
    "import numpy as np\n",
    "import pandas as pd\n",
    "import os"
   ]
  },
  {
   "cell_type": "code",
   "execution_count": 2,
   "metadata": {},
   "outputs": [
    {
     "name": "stdout",
     "output_type": "stream",
     "text": [
      "/Users/jan/Dropbox/Python_Scripts/ags_trans\n"
     ]
    }
   ],
   "source": [
    "path = os.getcwd()\n",
    "print(path)"
   ]
  },
  {
   "cell_type": "markdown",
   "metadata": {},
   "source": [
    "Read in files"
   ]
  },
  {
   "cell_type": "code",
   "execution_count": 3,
   "metadata": {},
   "outputs": [],
   "source": [
    "files = ['ref-gemeinden-1990-2000.xlsx', 'ref-gemeinden-2000-2010.xlsx', 'ref-gemeinden-2010-2020.xlsx']\n",
    "dfs = {}\n",
    "for year in range(1990, 2000):\n",
    "    dfs[f'{year}_{year+1}'] = pd.read_excel(f'{path}/data/{files[0]}', sheet_name=f'{year}-{year+1}', header=1, decimal = ',')\n",
    "for year in range(2000, 2010):\n",
    "    dfs[f'{year}_{year+1}'] = pd.read_excel(f'{path}/data/{files[1]}', sheet_name=f'{year}-{year+1}', header=1, decimal = ',')\n",
    "for year in range(2010, 2020):\n",
    "    if year < 2016:\n",
    "        dfs[f'{year}_{year+1}'] = pd.read_excel(f'{path}/data/{files[2]}', sheet_name=f'{year}-{year+1}', header=1, decimal = ',')\n",
    "    else: # header changed\n",
    "        dfs[f'{year}_{year+1}'] = pd.read_excel(f'{path}/data/{files[2]}', sheet_name=f'{year}-{year+1}', header=0, decimal = ',')"
   ]
  },
  {
   "cell_type": "markdown",
   "metadata": {},
   "source": [
    "Keep only the Kennziffer (AGS) columns (and the name for 1990 and 2020)"
   ]
  },
  {
   "cell_type": "code",
   "execution_count": 4,
   "metadata": {},
   "outputs": [],
   "source": [
    "AGS_dfs = {}\n",
    "for name, df in dfs.items():\n",
    "    if name == '1990_1991':\n",
    "        AGS_dfs[name] = dfs[name][['Name', 'Kennziffer', 'Kennziffer.1']] #keep name 1990\n",
    "    elif name == '2019_2020':\n",
    "        AGS_dfs[name] = dfs[name][['Gemeindename 2020', 'Kennziffer', 'Kennziffer.1']] #keep name 2020\n",
    "    else:\n",
    "        AGS_dfs[name] = dfs[name][['Kennziffer', 'Kennziffer.1']]"
   ]
  },
  {
   "cell_type": "markdown",
   "metadata": {},
   "source": [
    "Rename the AGS columns"
   ]
  },
  {
   "cell_type": "code",
   "execution_count": 5,
   "metadata": {},
   "outputs": [
    {
     "name": "stderr",
     "output_type": "stream",
     "text": [
      "/var/folders/wm/mtrphj0s0msgrmyshf3hgk740000gn/T/ipykernel_77858/1259977040.py:11: SettingWithCopyWarning: \n",
      "A value is trying to be set on a copy of a slice from a DataFrame.\n",
      "Try using .loc[row_indexer,col_indexer] = value instead\n",
      "\n",
      "See the caveats in the documentation: https://pandas.pydata.org/pandas-docs/stable/user_guide/indexing.html#returning-a-view-versus-a-copy\n",
      "  df['Name_1990'] = df['Name_1990'].str.title()\n"
     ]
    }
   ],
   "source": [
    "for name, df in AGS_dfs.items():\n",
    "    old, new = name.split('_')\n",
    "    if name == '1990_1991':\n",
    "        col_names = ['Name_1990', f'AGS_{old}', f'AGS_{new}']\n",
    "    elif name == '2019_2020':\n",
    "        col_names = ['Name_2020', f'AGS_{old}', f'AGS_{new}']\n",
    "    else:\n",
    "        col_names = [f'AGS_{old}', f'AGS_{new}']\n",
    "    df.columns = col_names\n",
    "    if name == '1990_1991':\n",
    "        df['Name_1990'] = df['Name_1990'].str.title()"
   ]
  },
  {
   "cell_type": "markdown",
   "metadata": {},
   "source": [
    "Merge all dataframes"
   ]
  },
  {
   "cell_type": "code",
   "execution_count": 6,
   "metadata": {},
   "outputs": [],
   "source": [
    "AGS_trans = AGS_dfs['1990_1991']\n",
    "for year in range(1990, 2019):\n",
    "    AGS_trans = AGS_trans.merge(AGS_dfs[f'{year+1}_{year+2}'], on=f'AGS_{year+1}')"
   ]
  },
  {
   "cell_type": "markdown",
   "metadata": {},
   "source": [
    "Rearrange"
   ]
  },
  {
   "cell_type": "code",
   "execution_count": 7,
   "metadata": {},
   "outputs": [],
   "source": [
    "column_to_move = AGS_trans.pop(\"Name_2020\")\n",
    "AGS_trans.insert(1, \"Name_2020\", column_to_move)"
   ]
  },
  {
   "cell_type": "markdown",
   "metadata": {},
   "source": [
    "Convert AGS to string and make 8 digits long"
   ]
  },
  {
   "cell_type": "code",
   "execution_count": 8,
   "metadata": {},
   "outputs": [],
   "source": [
    "for year in range(1990, 2021):\n",
    "    AGS_trans[f'AGS_{year}'] = AGS_trans[f'AGS_{year}'].astype(str)\n",
    "    AGS_trans[f'AGS_{year}'] = np.where(AGS_trans[f'AGS_{year}'].str.len() < 8, '0' + AGS_trans[f'AGS_{year}'], AGS_trans[f'AGS_{year}'])"
   ]
  },
  {
   "cell_type": "markdown",
   "metadata": {},
   "source": [
    "Keep only the obs where the AGS was changed"
   ]
  },
  {
   "cell_type": "code",
   "execution_count": 9,
   "metadata": {},
   "outputs": [],
   "source": [
    "AGS_changes = AGS_trans[AGS_trans.filter(like='AGS').nunique(axis=1).gt(1)]"
   ]
  },
  {
   "cell_type": "markdown",
   "metadata": {},
   "source": [
    "Export dfs"
   ]
  },
  {
   "cell_type": "code",
   "execution_count": 10,
   "metadata": {},
   "outputs": [],
   "source": [
    "AGS_trans = AGS_trans.set_index('Name_1990')\n",
    "AGS_changes = AGS_changes.set_index('Name_1990')"
   ]
  },
  {
   "cell_type": "code",
   "execution_count": 11,
   "metadata": {},
   "outputs": [],
   "source": [
    "AGS_trans.to_csv(f'{path}/data/ags_transition.csv', encoding = 'utf-8-sig')\n",
    "AGS_changes.to_csv(f'{path}/data/ags_changes.csv', encoding = 'utf-8-sig')"
   ]
  }
 ],
 "metadata": {
  "kernelspec": {
   "display_name": "Python 3.10.4 ('vscode')",
   "language": "python",
   "name": "python3"
  },
  "language_info": {
   "codemirror_mode": {
    "name": "ipython",
    "version": 3
   },
   "file_extension": ".py",
   "mimetype": "text/x-python",
   "name": "python",
   "nbconvert_exporter": "python",
   "pygments_lexer": "ipython3",
   "version": "3.10.4"
  },
  "orig_nbformat": 4,
  "vscode": {
   "interpreter": {
    "hash": "656f4cd1472b14b513faaa63bd5e4a7577d125de6a277113d4e82c4085557d3e"
   }
  }
 },
 "nbformat": 4,
 "nbformat_minor": 2
}
